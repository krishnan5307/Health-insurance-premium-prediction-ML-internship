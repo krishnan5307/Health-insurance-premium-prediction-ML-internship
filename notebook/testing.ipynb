{
 "cells": [
  {
   "cell_type": "code",
   "execution_count": 3,
   "metadata": {},
   "outputs": [],
   "source": [
    "import numpy as np\n",
    "from insurance.entity.artifact_entity import DataTransformationArtifact, ModelTrainerArtifact\n"
   ]
  },
  {
   "cell_type": "code",
   "execution_count": 4,
   "metadata": {},
   "outputs": [],
   "source": [
    "from insurance.util.util import load_numpy_array_data,save_object,load_object\n"
   ]
  },
  {
   "cell_type": "code",
   "execution_count": 5,
   "metadata": {},
   "outputs": [],
   "source": [
    "transformed_train_file_path = DataTransformationArtifact.transformed_train_file_path\n"
   ]
  },
  {
   "cell_type": "code",
   "execution_count": null,
   "metadata": {},
   "outputs": [],
   "source": [
    "train_array = load_numpy_array_data(file_path=\"insurance\\artifact\\data_transformation\\2023-01-09-16-48-52\\transformed_data\\train\\insurance.npz\")\n"
   ]
  },
  {
   "cell_type": "code",
   "execution_count": 8,
   "metadata": {},
   "outputs": [],
   "source": [
    "from insurance.component import data_transformation"
   ]
  },
  {
   "cell_type": "code",
   "execution_count": 9,
   "metadata": {},
   "outputs": [],
   "source": [
    "from sklearn.base import BaseEstimator,TransformerMixin\n",
    "from sklearn.preprocessing import StandardScaler,OneHotEncoder\n",
    "from sklearn.pipeline import Pipeline\n",
    "from sklearn.compose import ColumnTransformer\n",
    "from sklearn.impute import SimpleImputer"
   ]
  },
  {
   "cell_type": "code",
   "execution_count": 13,
   "metadata": {},
   "outputs": [],
   "source": [
    "from insurance.entity.config_entity import DataTransformationConfig \n",
    "from insurance.entity.artifact_entity import DataIngestionArtifact,DataValidationArtifact,DataTransformationArtifact\n",
    "import sys,os"
   ]
  },
  {
   "cell_type": "code",
   "execution_count": 16,
   "metadata": {},
   "outputs": [
    {
     "ename": "TypeError",
     "evalue": "__init__() missing 3 required positional arguments: 'data_transformation_config', 'data_ingestion_artifact', and 'data_validation_artifact'",
     "output_type": "error",
     "traceback": [
      "\u001b[1;31m---------------------------------------------------------------------------\u001b[0m",
      "\u001b[1;31mTypeError\u001b[0m                                 Traceback (most recent call last)",
      "\u001b[1;32mc:\\Users\\krish\\Health-insurance-premium-prediction-ML-internship\\notebook\\testing.ipynb Cell 8\u001b[0m in \u001b[0;36m<cell line: 1>\u001b[1;34m()\u001b[0m\n\u001b[1;32m----> <a href='vscode-notebook-cell:/c%3A/Users/krish/Health-insurance-premium-prediction-ML-internship/notebook/testing.ipynb#X10sZmlsZQ%3D%3D?line=0'>1</a>\u001b[0m preprocessing_obj \u001b[39m=\u001b[39m data_transformation\u001b[39m.\u001b[39;49mDataTransformation()\u001b[39m.\u001b[39mget_data_transformer_object()\n",
      "\u001b[1;31mTypeError\u001b[0m: __init__() missing 3 required positional arguments: 'data_transformation_config', 'data_ingestion_artifact', and 'data_validation_artifact'"
     ]
    }
   ],
   "source": [
    "preprocessing_obj = data_transformation.DataTransformation().get_data_transformer_object()"
   ]
  },
  {
   "cell_type": "code",
   "execution_count": 1,
   "metadata": {},
   "outputs": [],
   "source": [
    "r= r\"C:\\Users\\krish\\Health-insurance-premium-prediction-ML-internship\\insurance\\artifact\\model_trainer\\2023-01-10-12-03-06\\trained_model\\model.pkl\""
   ]
  },
  {
   "cell_type": "code",
   "execution_count": 2,
   "metadata": {},
   "outputs": [],
   "source": [
    "import dill"
   ]
  },
  {
   "cell_type": "code",
   "execution_count": 4,
   "metadata": {},
   "outputs": [],
   "source": [
    "with open(r, \"rb\") as file_obj:\n",
    "    model= dill.load(file_obj)"
   ]
  },
  {
   "cell_type": "code",
   "execution_count": null,
   "metadata": {},
   "outputs": [],
   "source": []
  }
 ],
 "metadata": {
  "kernelspec": {
   "display_name": "base",
   "language": "python",
   "name": "python3"
  },
  "language_info": {
   "codemirror_mode": {
    "name": "ipython",
    "version": 3
   },
   "file_extension": ".py",
   "mimetype": "text/x-python",
   "name": "python",
   "nbconvert_exporter": "python",
   "pygments_lexer": "ipython3",
   "version": "3.9.12"
  },
  "orig_nbformat": 4,
  "vscode": {
   "interpreter": {
    "hash": "0c72c36e56a90c0115cb01eebece97049a9c51106feacd19e0fe42a458fac2fc"
   }
  }
 },
 "nbformat": 4,
 "nbformat_minor": 2
}
